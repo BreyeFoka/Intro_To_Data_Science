{
 "cells": [
  {
   "cell_type": "code",
   "execution_count": 1,
   "id": "b5bb8b78",
   "metadata": {},
   "outputs": [
    {
     "name": "stderr",
     "output_type": "stream",
     "text": [
      "c:\\Users\\blagl\\Documents\\DataScience_Journey\\huggingface_training\\.env\\Lib\\site-packages\\tqdm\\auto.py:21: TqdmWarning: IProgress not found. Please update jupyter and ipywidgets. See https://ipywidgets.readthedocs.io/en/stable/user_install.html\n",
      "  from .autonotebook import tqdm as notebook_tqdm\n"
     ]
    },
    {
     "name": "stdout",
     "output_type": "stream",
     "text": [
      "WARNING:tensorflow:From c:\\Users\\blagl\\Documents\\DataScience_Journey\\huggingface_training\\.env\\Lib\\site-packages\\tf_keras\\src\\losses.py:2976: The name tf.losses.sparse_softmax_cross_entropy is deprecated. Please use tf.compat.v1.losses.sparse_softmax_cross_entropy instead.\n",
      "\n"
     ]
    },
    {
     "name": "stderr",
     "output_type": "stream",
     "text": [
      "Device set to use cpu\n"
     ]
    }
   ],
   "source": [
    "from transformers import pipeline\n",
    "\n",
    "classifier = pipeline(\"text-classification\", model=\"tabularisai/multilingual-sentiment-analysis\")"
   ]
  },
  {
   "cell_type": "code",
   "execution_count": null,
   "id": "58387c8d",
   "metadata": {},
   "outputs": [],
   "source": [
    "texts=[\"i love candies\", \"I may like such an improvement\", \"The weather is not favorable\", \"I hate beer\", \"School is tiring\", \"This meal tastes awful\"]\n"
   ]
  },
  {
   "cell_type": "code",
   "execution_count": 7,
   "id": "dec5310a",
   "metadata": {},
   "outputs": [],
   "source": [
    "answers=[]\n",
    "for text in texts:\n",
    "    answers.append(classifier(text))"
   ]
  },
  {
   "cell_type": "code",
   "execution_count": 8,
   "id": "08e5d0ba",
   "metadata": {},
   "outputs": [
    {
     "name": "stdout",
     "output_type": "stream",
     "text": [
      "[{'label': 'Positive', 'score': 0.47348517179489136}]\n",
      "[{'label': 'Very Negative', 'score': 0.23580624163150787}]\n",
      "[{'label': 'Negative', 'score': 0.599678099155426}]\n",
      "[{'label': 'Very Negative', 'score': 0.37823426723480225}]\n",
      "[{'label': 'Very Negative', 'score': 0.521618664264679}]\n",
      "[{'label': 'Very Negative', 'score': 0.7925223112106323}]\n"
     ]
    }
   ],
   "source": [
    "for ans in answers:\n",
    "    print(ans)"
   ]
  },
  {
   "cell_type": "code",
   "execution_count": 9,
   "id": "71bfb1c0",
   "metadata": {},
   "outputs": [
    {
     "name": "stdout",
     "output_type": "stream",
     "text": [
      "[[{'label': 'Positive', 'score': 0.47348517179489136}], [{'label': 'Very Negative', 'score': 0.23580624163150787}], [{'label': 'Negative', 'score': 0.599678099155426}], [{'label': 'Very Negative', 'score': 0.37823426723480225}], [{'label': 'Very Negative', 'score': 0.521618664264679}], [{'label': 'Very Negative', 'score': 0.7925223112106323}]]\n"
     ]
    }
   ],
   "source": [
    "print(answers)"
   ]
  },
  {
   "cell_type": "code",
   "execution_count": null,
   "id": "94067702",
   "metadata": {},
   "outputs": [],
   "source": []
  }
 ],
 "metadata": {
  "kernelspec": {
   "display_name": ".env",
   "language": "python",
   "name": "python3"
  },
  "language_info": {
   "codemirror_mode": {
    "name": "ipython",
    "version": 3
   },
   "file_extension": ".py",
   "mimetype": "text/x-python",
   "name": "python",
   "nbconvert_exporter": "python",
   "pygments_lexer": "ipython3",
   "version": "3.12.8"
  }
 },
 "nbformat": 4,
 "nbformat_minor": 5
}
